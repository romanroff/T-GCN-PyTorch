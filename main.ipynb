{
 "cells": [
  {
   "cell_type": "code",
   "execution_count": 52,
   "metadata": {},
   "outputs": [
    {
     "name": "stderr",
     "output_type": "stream",
     "text": [
      "C:\\Users\\romab\\AppData\\Local\\Temp\\ipykernel_16656\\886881748.py:60: DeprecationWarning: Starting with ImageIO v3 the behavior of this function will switch to that of iio.v3.imread. To keep the current behavior (and make this warning disappear) use `import imageio.v2 as imageio` or call `imageio.v2.imread` directly.\n",
      "  image = imageio.imread(filename)\n"
     ]
    },
    {
     "name": "stdout",
     "output_type": "stream",
     "text": [
      "GIF создан!\n"
     ]
    }
   ],
   "source": [
    "import numpy as np\n",
    "import pandas as pd\n",
    "import networkx as nx\n",
    "import matplotlib.pyplot as plt\n",
    "import imageio.v2 as imageio\n",
    "\n",
    "# Данные матрицы смежности\n",
    "adj_matrix = pd.read_csv('data/los_adj.csv', header=None)\n",
    "speed_matrix = pd.read_csv('data/los_speed.csv')\n",
    "adj_matrix = adj_matrix - np.eye(207)\n",
    "\n",
    "# Создание графа\n",
    "G = nx.Graph()\n",
    "\n",
    "# Добавление рёбер без самопетлей\n",
    "for i in range(len(adj_matrix)):\n",
    "    for j in range(i+1, len(adj_matrix)):  # Исключаем самопетли и дублирование рёбер\n",
    "        weight = adj_matrix.iloc[i, j]\n",
    "        if weight != 0:  # Если вес не равен 0, добавляем ребро\n",
    "            G.add_edge(i, j, weight=weight)\n",
    "\n",
    "# Если planar_layout не сработает (граф не планарный), используем kamada_kawai_layout\n",
    "pos = nx.kamada_kawai_layout(G)\n",
    "\n",
    "# Функция для получения цвета\n",
    "def get_color(value):\n",
    "    return plt.cm.viridis(value)\n",
    "\n",
    "# Находим максимальное значение скорости\n",
    "max_speed = speed_matrix.max().max()\n",
    "\n",
    "# Создание цветовой шкалы\n",
    "sm = plt.cm.ScalarMappable(cmap=plt.cm.viridis, norm=plt.Normalize(vmin=0, vmax=max_speed))\n",
    "sm.set_array([])\n",
    "\n",
    "# Создание кадров для GIF\n",
    "filenames = []\n",
    "for t in range(60, 132+1):  # По времени (строки матрицы)\n",
    "    fig, ax = plt.subplots(figsize=(16, 10))\n",
    "    часы = (t * 5) // 60\n",
    "    минуты = (t * 5) % 60\n",
    "    ax.set_title(f'Время: {часы:02d}:{минуты:02d}')\n",
    "    node_colors = [get_color(speed_matrix.iloc[t, i] / max_speed) for i in G.nodes()]  # Нормализуем значения для цвета\n",
    "    \n",
    "    nx.draw(G, pos, ax=ax, with_labels=False, node_color=node_colors, node_size=150, font_size=6, \n",
    "        edge_color='gray', width=0.5, alpha=0.7)\n",
    "\n",
    "    # Добавление цветовой шкалы\n",
    "    cbar = fig.colorbar(sm, ax=ax)\n",
    "    cbar.set_label('Скорость (км/час)')\n",
    "    \n",
    "    filename = f'data/img/frame_{t}.png'\n",
    "    plt.savefig(filename)  # Сохраняем каждый кадр\n",
    "    filenames.append(filename)\n",
    "    plt.close(fig)\n",
    "\n",
    "# Создание GIF\n",
    "with imageio.get_writer('graph_animation.gif', mode='I', duration=0.1) as writer:\n",
    "    for filename in filenames:\n",
    "        image = imageio.imread(filename)\n",
    "        writer.append_data(image)\n",
    "\n",
    "# Очистка временных файлов\n",
    "import os\n",
    "for filename in filenames:\n",
    "    os.remove(filename)\n",
    "\n",
    "print(\"GIF создан!\")"
   ]
  }
 ],
 "metadata": {
  "kernelspec": {
   "display_name": ".venv",
   "language": "python",
   "name": "python3"
  },
  "language_info": {
   "codemirror_mode": {
    "name": "ipython",
    "version": 3
   },
   "file_extension": ".py",
   "mimetype": "text/x-python",
   "name": "python",
   "nbconvert_exporter": "python",
   "pygments_lexer": "ipython3",
   "version": "3.10.11"
  }
 },
 "nbformat": 4,
 "nbformat_minor": 2
}
